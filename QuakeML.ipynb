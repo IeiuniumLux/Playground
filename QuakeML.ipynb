{
 "cells": [
  {
   "cell_type": "markdown",
   "id": "5bb4704d-846a-4371-a330-a03f005d5119",
   "metadata": {},
   "source": []
  },
  {
   "cell_type": "code",
   "execution_count": null,
   "id": "86de0f0a-5f6c-4816-806a-d3729b1dc9fc",
   "metadata": {},
   "outputs": [],
   "source": [
    "# import getpass\n",
    "# import os\n",
    "\n",
    "# password = getpass.getpass()\n",
    "# command = \"sudo -S bash trust_apple_corp_root_cas.sh\"\n",
    "# os.system('echo %s | %s' % (password, command))\n",
    "# os.system('echo %s' % (command))\n",
    "\n",
    "# %pip install --upgrade geopandas\n",
    "# %pip install --upgrade matplotlib\n",
    "# %pip install --upgrade palettable\n",
    "# %pip install --upgrade sidecar\n",
    "# %pip install --upgrade lonboard\n",
    "# %pip install --upgrade pyogrio\n",
    "# %pip install --upgrade scikit-learn"
   ]
  },
  {
   "cell_type": "code",
   "execution_count": null,
   "id": "f24e7689-e2c6-42bc-98fb-163cb22bd9e4",
   "metadata": {},
   "outputs": [],
   "source": [
    "import geopandas as gpd\n",
    "import matplotlib as mpl\n",
    "import matplotlib.pyplot as plt\n",
    "import pandas as pd\n",
    "from palettable.colorbrewer.diverging import BrBG_10\n",
    "from sidecar import Sidecar\n",
    "\n",
    "from lonboard import Map, ScatterplotLayer\n",
    "from lonboard.colormap import apply_continuous_cmap\n",
    "# %matplotlib inline\n",
    "\n",
    "import warnings\n",
    "\n",
    "# Suppress FutureWarning messages\n",
    "warnings.simplefilter(action='ignore', category=FutureWarning)\n",
    "\n",
    "# Global variable to store the currently displayed Sidecar widget\n",
    "current_sidecar = None"
   ]
  },
  {
   "cell_type": "code",
   "execution_count": null,
   "id": "dc37f3e6-16ba-433c-83fc-4e1c2c3766b7",
   "metadata": {},
   "outputs": [],
   "source": [
    "csv_file = \"1900-2018-GH.csv\"\n",
    "\n",
    "gdf = gpd.read_file(\n",
    "    csv_file,\n",
    "    engine=\"pyogrio\",\n",
    "    use_arrow=True,\n",
    "    X_POSSIBLE_NAMES=\"longitude\",\n",
    "    Y_POSSIBLE_NAMES=\"latitude\",\n",
    "    KEEP_GEOM_COLUMNS=\"NO\",\n",
    ")"
   ]
  },
  {
   "cell_type": "markdown",
   "id": "9f067ed8-e677-44ed-b006-dd01bdf5e5e5",
   "metadata": {},
   "source": [
    "## Quick look at the data"
   ]
  },
  {
   "cell_type": "code",
   "execution_count": null,
   "id": "1aab157c-ddb8-4305-815f-0388ae47fdb9",
   "metadata": {},
   "outputs": [],
   "source": [
    "gdf"
   ]
  },
  {
   "cell_type": "code",
   "execution_count": null,
   "id": "74c34afb-b1ab-44c7-b949-ce20d24a4043",
   "metadata": {},
   "outputs": [],
   "source": [
    "gdf.info()"
   ]
  },
  {
   "cell_type": "markdown",
   "id": "6060e45b-4e23-458e-9da0-da79c0cd39e1",
   "metadata": {},
   "source": [
    "## Check for numeric None, NaN, or NaT values"
   ]
  },
  {
   "cell_type": "code",
   "execution_count": null,
   "id": "85d8fa64-8474-4e25-80f4-27d1b78843b1",
   "metadata": {},
   "outputs": [],
   "source": [
    "def check_numeric_nulls():\n",
    "    numeric_null_mask = gdf.applymap(lambda x: pd.isna(x))\n",
    "\n",
    "    # Count the number of numeric null values in each column\n",
    "    return numeric_null_mask.sum()\n",
    "\n",
    "check_numeric_nulls()"
   ]
  },
  {
   "cell_type": "code",
   "execution_count": null,
   "id": "f57801c6-76f2-4c59-bccf-cc16211dcc8d",
   "metadata": {},
   "outputs": [],
   "source": [
    "# Check for 'None' string cells in the DataFrame\n",
    "def check_none_string():\n",
    "    none_string_mask = gdf.applymap(lambda x: x == 'None')\n",
    "\n",
    "    # Count the number of 'None' string cells in each column\n",
    "    return none_string_mask.sum()\n",
    "\n",
    "check_none_string()"
   ]
  },
  {
   "cell_type": "code",
   "execution_count": null,
   "id": "b912399f-d8f5-4ef1-a801-bcb5c0bf8015",
   "metadata": {},
   "outputs": [],
   "source": [
    "# Check for empty cells in the DataFrame\n",
    "def check_empty_cells():\n",
    "    empty_cells_mask = gdf.applymap(lambda x: x == '')\n",
    "\n",
    "    # Count the number of empty cells in each column\n",
    "    return empty_cells_mask.sum()\n",
    "\n",
    "check_empty_cells()"
   ]
  },
  {
   "cell_type": "markdown",
   "id": "dd999b66-2113-4283-907b-a37782f3713d",
   "metadata": {},
   "source": [
    "## Convert required columns to numeric and replace NaN values with the median"
   ]
  },
  {
   "cell_type": "code",
   "execution_count": null,
   "id": "55965e20-6463-423c-93ed-702e97a9faa9",
   "metadata": {},
   "outputs": [],
   "source": [
    "# Convert these columns to numeric, coercing errors to NaN\n",
    "gdf['depth'] = pd.to_numeric(gdf['depth'], errors='coerce')\n",
    "gdf['mag'] = pd.to_numeric(gdf['mag'], errors='coerce')\n",
    "# Convert datetime strings to timestamps\n",
    "# gdf['time'] = pd.to_datetime(gdf['time']).astype(int) / 10**9\n",
    "\n",
    "# Calculate the median of the 'depth' column\n",
    "depth_median = gdf['depth'].median()\n",
    "\n",
    "# Calculate the median of the 'mag' column\n",
    "depth_median = gdf['mag'].median()\n",
    "\n",
    "# Fill NaN values with the median\n",
    "gdf['depth'] = gdf['depth'].fillna(depth_median)\n",
    "gdf['mag'] = gdf['mag'].fillna(depth_median)"
   ]
  },
  {
   "cell_type": "code",
   "execution_count": null,
   "id": "40308e04-2091-490a-aed2-2743bb7538f9",
   "metadata": {},
   "outputs": [],
   "source": [
    "gdf.info()"
   ]
  },
  {
   "cell_type": "code",
   "execution_count": null,
   "id": "a3bf02f4-b0ef-4261-b6c0-b602d9fc0b8f",
   "metadata": {},
   "outputs": [],
   "source": [
    "check_empty_cells()"
   ]
  },
  {
   "cell_type": "code",
   "execution_count": null,
   "id": "6542979d-d007-4870-b1b4-f10d697fc926",
   "metadata": {},
   "outputs": [],
   "source": [
    "gdf"
   ]
  },
  {
   "cell_type": "code",
   "execution_count": null,
   "id": "7ef92dc3-7be0-4f09-8118-e32bd7b47ea4",
   "metadata": {},
   "outputs": [],
   "source": [
    "gdf.describe()"
   ]
  },
  {
   "cell_type": "code",
   "execution_count": null,
   "id": "dba4b261-a10d-45a4-8569-c1164c1cd2bf",
   "metadata": {},
   "outputs": [],
   "source": [
    "gdf['mag'].hist()"
   ]
  },
  {
   "cell_type": "code",
   "execution_count": null,
   "id": "2054015a-d859-493c-b2e0-ee034806fb34",
   "metadata": {},
   "outputs": [],
   "source": [
    "layer = ScatterplotLayer.from_geopandas(gdf)\n",
    "map_ = Map(layers=[layer], _height=1800)\n",
    "\n",
    "# from shapely.geometry import MultiPoint\n",
    "\n",
    "# #Calculate centroids\n",
    "# centroids = gdf.centroid\n",
    "\n",
    "# #Extract centroid coordinates into a MultiPoint object\n",
    "# multi_point = MultiPoint([geom.xy for geom in centroids])\n",
    "\n",
    "# # Calculate the median centroid\n",
    "# median_centroid = multi_point.centroid\n",
    "\n",
    "# print(f\"{median_centroid.coords.xy[0][0]}, {median_centroid.coords.xy[1][0]}\")\n",
    "\n",
    "# map_._initial_view_state={\n",
    "#     \"longitude\": median_centroid.coords.xy[0][0], \n",
    "#     \"latitude\": median_centroid.coords.xy[1][0], \n",
    "#     \"zoom\": 7}\n",
    "\n",
    "# ---------------------------------------------------------------------\n",
    "# Calculate the centroid for each geometry and collect them\n",
    "centroids = gdf.geometry.apply(lambda geom: (geom.centroid.x, geom.centroid.y)).tolist()\n",
    "\n",
    "# Calculate the median centroid\n",
    "median_centroid = (\n",
    "    sorted(centroids, key=lambda x: x[0])[len(centroids) // 2][0],  # Median x-coordinate\n",
    "    sorted(centroids, key=lambda x: x[1])[len(centroids) // 2][1]   # Median y-coordinate\n",
    ")\n",
    "\n",
    "# Reverse the order of coordinates to match (latitude, longitude)\n",
    "# median_centroid = median_centroid[::-1]\n",
    "# median_centroid\n",
    "\n",
    "map_._initial_view_state={\"longitude\": median_centroid[0], \"latitude\": median_centroid[1], \"zoom\": 7.5}"
   ]
  },
  {
   "cell_type": "code",
   "execution_count": null,
   "id": "cd89e743-134c-425d-bd59-0aef318e0c1b",
   "metadata": {},
   "outputs": [],
   "source": [
    "# Function to create and display a Sidecar widget\n",
    "def display_sidecar():\n",
    "    global current_sidecar\n",
    "    if current_sidecar is not None:\n",
    "        current_sidecar.close()  # Close the currently displayed Sidecar widget\n",
    "    current_sidecar = Sidecar(title='CA Map')\n",
    "    with current_sidecar:\n",
    "        display(map_)  # Replace this with your desired content\n",
    "\n",
    "# Test the function\n",
    "display_sidecar()\n",
    "\n",
    "# with Sidecar(title=\"CA Map\") as sc:\n",
    "#     display(map_)"
   ]
  },
  {
   "cell_type": "code",
   "execution_count": null,
   "id": "e070b359-98f2-4481-95f0-1ee64d91e7a9",
   "metadata": {
    "editable": true,
    "slideshow": {
     "slide_type": ""
    },
    "tags": []
   },
   "outputs": [],
   "source": [
    "colname = \"mag\"\n",
    "gdf[colname] = pd.to_numeric(gdf[colname])"
   ]
  },
  {
   "cell_type": "markdown",
   "id": "ae715b7d-dcd4-4e6c-b0c8-88ebfd201faf",
   "metadata": {},
   "source": [
    "### Linear normalization process to convert magnitude values ranging from 0 to 9 to a range of 0 to 1 to colormap the data"
   ]
  },
  {
   "cell_type": "code",
   "execution_count": null,
   "id": "563e6a36-e374-4285-be48-b36f51319ae4",
   "metadata": {},
   "outputs": [],
   "source": [
    "normalizer = mpl.colors.Normalize(0, 9)\n",
    "normalized_values = normalizer(gdf[colname])"
   ]
  },
  {
   "cell_type": "code",
   "execution_count": null,
   "id": "817e0297-7cca-43c5-866f-797268ef4e43",
   "metadata": {},
   "outputs": [],
   "source": [
    "normalized_values"
   ]
  },
  {
   "cell_type": "code",
   "execution_count": null,
   "id": "abecd817-7133-4ff2-bd71-712e25324789",
   "metadata": {},
   "outputs": [],
   "source": [
    "BrBG_10.mpl_colormap"
   ]
  },
  {
   "cell_type": "code",
   "execution_count": null,
   "id": "5d57296f-3aba-4a9c-b81f-7c1b5f903927",
   "metadata": {},
   "outputs": [],
   "source": [
    "layer.radius_min_pixels = 0.5\n",
    "layer.get_fill_color = apply_continuous_cmap(normalized_values, BrBG_10)"
   ]
  },
  {
   "cell_type": "code",
   "execution_count": null,
   "id": "bf16a812-81b7-4810-b4c7-4cef77e8ace7",
   "metadata": {},
   "outputs": [],
   "source": [
    "log_normalizer = mpl.colors.LogNorm(3, 9, clip=True)\n",
    "log_values = log_normalizer(gdf[colname])"
   ]
  },
  {
   "cell_type": "code",
   "execution_count": null,
   "id": "15e3ff90-8299-4c74-b73b-4d87f19aceef",
   "metadata": {},
   "outputs": [],
   "source": [
    "layer.get_fill_color = apply_continuous_cmap(log_values, BrBG_10)\n",
    "layer.get_radius = log_values * 2500\n",
    "layer.radius_units = \"meters\""
   ]
  },
  {
   "cell_type": "code",
   "execution_count": null,
   "id": "262942cf-77fd-432f-bfee-011e1a693f4c",
   "metadata": {},
   "outputs": [],
   "source": [
    "# Extract x and y coordinates from the geometry column\n",
    "gdf['longitude'] = gdf.geometry.x\n",
    "gdf['latitude'] = gdf.geometry.y\n",
    "# gdf"
   ]
  },
  {
   "cell_type": "code",
   "execution_count": null,
   "id": "9d1dedb0-e5ef-4d3f-a776-1b3c035c5ab4",
   "metadata": {},
   "outputs": [],
   "source": [
    "gdf.plot(kind=\"scatter\", x=\"longitude\", y=\"latitude\", alpha=0.4, s=gdf[\"mag\"], label=\"magnitude\", figsize=(10,7), c=\"mag\", cmap=plt.get_cmap(\"seismic\"), colorbar=True,\n",
    "    sharex=False)"
   ]
  },
  {
   "cell_type": "code",
   "execution_count": null,
   "id": "10bb583c-94c0-408b-8ede-2c4f8def44ba",
   "metadata": {},
   "outputs": [],
   "source": [
    "from sklearn.model_selection import train_test_split\n",
    "\n",
    "columns_to_drop = ['time', 'mag', 'id', 'place', 'geohash', 'geometry']\n",
    "X = gdf.drop(columns_to_drop, axis=1)\n",
    "y = gdf['mag']\n",
    "\n",
    "X_train, X_test, y_train, y_test = train_test_split(X, y, test_size=0.2, random_state=42)"
   ]
  },
  {
   "cell_type": "code",
   "execution_count": null,
   "id": "3d6bfad8-ab2f-4c79-b214-7a83ae7d95c1",
   "metadata": {},
   "outputs": [],
   "source": [
    "from sklearn.linear_model import LinearRegression\n",
    "\n",
    "model = LinearRegression()\n",
    "\n",
    "# Train the model\n",
    "model.fit(X_train, y_train)\n",
    "# model.fit(gdf[[\"time\", \"depth\", \"longitude\", \"latitude\"]], gdf[\"mag\"])\n",
    "\n",
    "# Make predictions\n",
    "y_pred = model.predict(X_test)\n",
    "\n",
    "y_pred"
   ]
  },
  {
   "cell_type": "code",
   "execution_count": null,
   "id": "63fbce67-6205-4100-a858-5884590df903",
   "metadata": {},
   "outputs": [],
   "source": [
    "coef = model.coef_\n",
    "coef"
   ]
  },
  {
   "cell_type": "code",
   "execution_count": null,
   "id": "af9a2168-0894-4af0-aff4-b626e3c62cd0",
   "metadata": {},
   "outputs": [],
   "source": [
    "intercept = model.intercept_\n",
    "intercept"
   ]
  },
  {
   "cell_type": "code",
   "execution_count": null,
   "id": "aca072f4-fa95-4007-b083-7317f84e79e7",
   "metadata": {},
   "outputs": [],
   "source": []
  }
 ],
 "metadata": {
  "kernelspec": {
   "display_name": "Python 3 (ipykernel)",
   "language": "python",
   "name": "python3"
  },
  "language_info": {
   "codemirror_mode": {
    "name": "ipython",
    "version": 3
   },
   "file_extension": ".py",
   "mimetype": "text/x-python",
   "name": "python",
   "nbconvert_exporter": "python",
   "pygments_lexer": "ipython3",
   "version": "3.11.1"
  }
 },
 "nbformat": 4,
 "nbformat_minor": 5
}
