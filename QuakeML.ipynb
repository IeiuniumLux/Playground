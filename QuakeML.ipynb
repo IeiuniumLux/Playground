{
 "cells": [
  {
   "cell_type": "markdown",
   "id": "5bb4704d-846a-4371-a330-a03f005d5119",
   "metadata": {},
   "source": []
  },
  {
   "cell_type": "code",
   "execution_count": null,
   "id": "86de0f0a-5f6c-4816-806a-d3729b1dc9fc",
   "metadata": {},
   "outputs": [],
   "source": [
    "# import getpass\n",
    "# import os\n",
    "\n",
    "# password = getpass.getpass()\n",
    "# command = \"sudo -S bash trust_apple_corp_root_cas.sh\"\n",
    "# os.system('echo %s | %s' % (password, command))\n",
    "# os.system('echo %s' % (command))\n",
    "\n",
    "# %conda install -c conda-forge nodejs\n",
    "# %conda install -n base -c conda-forge jupyterlab_widgets\n",
    "# %conda env list\n",
    "\n",
    "# %pip install --upgrade geopandas\n",
    "# %pip install --upgrade matplotlib\n",
    "# %pip install --upgrade palettable\n",
    "# %pip install --upgrade sidecar\n",
    "# %pip install --upgrade lonboard\n",
    "# %pip install --upgrade pyogrio\n",
    "# %pip install --upgrade scikit-learn"
   ]
  },
  {
   "cell_type": "code",
   "execution_count": 6,
   "id": "f24e7689-e2c6-42bc-98fb-163cb22bd9e4",
   "metadata": {},
   "outputs": [],
   "source": [
    "import geopandas as gpd\n",
    "import matplotlib as mpl\n",
    "import matplotlib.pyplot as plt\n",
    "import pandas as pd\n",
    "from palettable.colorbrewer.diverging import BrBG_10\n",
    "from sidecar import Sidecar\n",
    "\n",
    "from lonboard import Map, ScatterplotLayer\n",
    "from lonboard.colormap import apply_continuous_cmap\n",
    "# %matplotlib inline\n",
    "\n",
    "import warnings\n",
    "\n",
    "# Suppress FutureWarning messages\n",
    "warnings.simplefilter(action='ignore', category=FutureWarning)\n",
    "\n",
    "# Global variable to store the currently displayed Sidecar widget\n",
    "current_sidecar = None"
   ]
  },
  {
   "cell_type": "code",
   "execution_count": 7,
   "id": "dc37f3e6-16ba-433c-83fc-4e1c2c3766b7",
   "metadata": {},
   "outputs": [],
   "source": [
    "csv_file = \"1900-2018-GH.csv\"\n",
    "\n",
    "gdf = gpd.read_file(\n",
    "    csv_file,\n",
    "    engine=\"pyogrio\",\n",
    "    use_arrow=True,\n",
    "    X_POSSIBLE_NAMES=\"longitude\",\n",
    "    Y_POSSIBLE_NAMES=\"latitude\",\n",
    "    KEEP_GEOM_COLUMNS=\"NO\",\n",
    ")"
   ]
  },
  {
   "cell_type": "markdown",
   "id": "9f067ed8-e677-44ed-b006-dd01bdf5e5e5",
   "metadata": {},
   "source": [
    "## Quick look at the data"
   ]
  },
  {
   "cell_type": "code",
   "execution_count": 8,
   "id": "1aab157c-ddb8-4305-815f-0388ae47fdb9",
   "metadata": {},
   "outputs": [
    {
     "data": {
      "text/html": [
       "<div>\n",
       "<style scoped>\n",
       "    .dataframe tbody tr th:only-of-type {\n",
       "        vertical-align: middle;\n",
       "    }\n",
       "\n",
       "    .dataframe tbody tr th {\n",
       "        vertical-align: top;\n",
       "    }\n",
       "\n",
       "    .dataframe thead th {\n",
       "        text-align: right;\n",
       "    }\n",
       "</style>\n",
       "<table border=\"1\" class=\"dataframe\">\n",
       "  <thead>\n",
       "    <tr style=\"text-align: right;\">\n",
       "      <th></th>\n",
       "      <th>time</th>\n",
       "      <th>depth</th>\n",
       "      <th>mag</th>\n",
       "      <th>id</th>\n",
       "      <th>place</th>\n",
       "      <th>geohash</th>\n",
       "      <th>geometry</th>\n",
       "    </tr>\n",
       "  </thead>\n",
       "  <tbody>\n",
       "    <tr>\n",
       "      <th>0</th>\n",
       "      <td>2018-07-05T15:17:36.947Z</td>\n",
       "      <td>8.6</td>\n",
       "      <td>4.5</td>\n",
       "      <td>nn00642964</td>\n",
       "      <td>15 km WNW of Sandy Valley, Nevada</td>\n",
       "      <td>9qmsj</td>\n",
       "      <td>POINT (-115.77580 35.89450)</td>\n",
       "    </tr>\n",
       "    <tr>\n",
       "      <th>1</th>\n",
       "      <td>2016-06-10T08:04:38.700Z</td>\n",
       "      <td>12.31</td>\n",
       "      <td>5.19</td>\n",
       "      <td>ci37374687</td>\n",
       "      <td>20km NNW of Borrego Springs, CA</td>\n",
       "      <td>9mvnn</td>\n",
       "      <td>POINT (-116.44267 33.43150)</td>\n",
       "    </tr>\n",
       "    <tr>\n",
       "      <th>2</th>\n",
       "      <td>2014-07-05T16:59:34.090Z</td>\n",
       "      <td>7.25</td>\n",
       "      <td>4.58</td>\n",
       "      <td>ci15520985</td>\n",
       "      <td>11km NE of Running Springs, CA</td>\n",
       "      <td>9qhg0</td>\n",
       "      <td>POINT (-117.02667 34.28233)</td>\n",
       "    </tr>\n",
       "    <tr>\n",
       "      <th>3</th>\n",
       "      <td>2014-03-29T04:09:42.170Z</td>\n",
       "      <td>5.09</td>\n",
       "      <td>5.1</td>\n",
       "      <td>ci15481673</td>\n",
       "      <td>2km NW of Brea, CA</td>\n",
       "      <td>9qh1h</td>\n",
       "      <td>POINT (-117.91583 33.93250)</td>\n",
       "    </tr>\n",
       "    <tr>\n",
       "      <th>4</th>\n",
       "      <td>2013-03-11T16:56:06.060Z</td>\n",
       "      <td>10.943</td>\n",
       "      <td>4.7</td>\n",
       "      <td>ci15296281</td>\n",
       "      <td>21km ESE of Anza, CA</td>\n",
       "      <td>9mvnt</td>\n",
       "      <td>POINT (-116.45817 33.50083)</td>\n",
       "    </tr>\n",
       "    <tr>\n",
       "      <th>...</th>\n",
       "      <td>...</td>\n",
       "      <td>...</td>\n",
       "      <td>...</td>\n",
       "      <td>...</td>\n",
       "      <td>...</td>\n",
       "      <td>...</td>\n",
       "      <td>...</td>\n",
       "    </tr>\n",
       "    <tr>\n",
       "      <th>329</th>\n",
       "      <td>1910-05-13T06:20:00.000Z</td>\n",
       "      <td></td>\n",
       "      <td>5.0</td>\n",
       "      <td>ushis504</td>\n",
       "      <td>7 km WNW of Lake Elsinore, California</td>\n",
       "      <td>9mux8</td>\n",
       "      <td>POINT (-117.40000 33.70000)</td>\n",
       "    </tr>\n",
       "    <tr>\n",
       "      <th>330</th>\n",
       "      <td>1910-04-11T07:57:00.000Z</td>\n",
       "      <td></td>\n",
       "      <td>5.0</td>\n",
       "      <td>ushis501</td>\n",
       "      <td>7 km WNW of Lake Elsinore, California</td>\n",
       "      <td>9mux8</td>\n",
       "      <td>POINT (-117.40000 33.70000)</td>\n",
       "    </tr>\n",
       "    <tr>\n",
       "      <th>331</th>\n",
       "      <td>1908-11-04T08:37:00.000Z</td>\n",
       "      <td></td>\n",
       "      <td>6.5</td>\n",
       "      <td>ushis478</td>\n",
       "      <td>44 km NE of Searles Valley, California</td>\n",
       "      <td>9qkuc</td>\n",
       "      <td>POINT (-117.00000 36.00000)</td>\n",
       "    </tr>\n",
       "    <tr>\n",
       "      <th>332</th>\n",
       "      <td>1907-09-20T01:54:00.000Z</td>\n",
       "      <td></td>\n",
       "      <td>5.3</td>\n",
       "      <td>ushis468</td>\n",
       "      <td>1 km SE of Running Springs, California</td>\n",
       "      <td>9qhdx</td>\n",
       "      <td>POINT (-117.10000 34.20000)</td>\n",
       "    </tr>\n",
       "    <tr>\n",
       "      <th>333</th>\n",
       "      <td>1902-06-11T02:45:00.000Z</td>\n",
       "      <td></td>\n",
       "      <td>4.5</td>\n",
       "      <td>ushis403</td>\n",
       "      <td>1 km WSW of Winchester, California</td>\n",
       "      <td>9muxx</td>\n",
       "      <td>POINT (-117.10000 33.70000)</td>\n",
       "    </tr>\n",
       "  </tbody>\n",
       "</table>\n",
       "<p>334 rows × 7 columns</p>\n",
       "</div>"
      ],
      "text/plain": [
       "                         time   depth   mag          id  \\\n",
       "0    2018-07-05T15:17:36.947Z     8.6   4.5  nn00642964   \n",
       "1    2016-06-10T08:04:38.700Z   12.31  5.19  ci37374687   \n",
       "2    2014-07-05T16:59:34.090Z    7.25  4.58  ci15520985   \n",
       "3    2014-03-29T04:09:42.170Z    5.09   5.1  ci15481673   \n",
       "4    2013-03-11T16:56:06.060Z  10.943   4.7  ci15296281   \n",
       "..                        ...     ...   ...         ...   \n",
       "329  1910-05-13T06:20:00.000Z           5.0    ushis504   \n",
       "330  1910-04-11T07:57:00.000Z           5.0    ushis501   \n",
       "331  1908-11-04T08:37:00.000Z           6.5    ushis478   \n",
       "332  1907-09-20T01:54:00.000Z           5.3    ushis468   \n",
       "333  1902-06-11T02:45:00.000Z           4.5    ushis403   \n",
       "\n",
       "                                      place geohash  \\\n",
       "0         15 km WNW of Sandy Valley, Nevada   9qmsj   \n",
       "1           20km NNW of Borrego Springs, CA   9mvnn   \n",
       "2            11km NE of Running Springs, CA   9qhg0   \n",
       "3                        2km NW of Brea, CA   9qh1h   \n",
       "4                      21km ESE of Anza, CA   9mvnt   \n",
       "..                                      ...     ...   \n",
       "329   7 km WNW of Lake Elsinore, California   9mux8   \n",
       "330   7 km WNW of Lake Elsinore, California   9mux8   \n",
       "331  44 km NE of Searles Valley, California   9qkuc   \n",
       "332  1 km SE of Running Springs, California   9qhdx   \n",
       "333      1 km WSW of Winchester, California   9muxx   \n",
       "\n",
       "                        geometry  \n",
       "0    POINT (-115.77580 35.89450)  \n",
       "1    POINT (-116.44267 33.43150)  \n",
       "2    POINT (-117.02667 34.28233)  \n",
       "3    POINT (-117.91583 33.93250)  \n",
       "4    POINT (-116.45817 33.50083)  \n",
       "..                           ...  \n",
       "329  POINT (-117.40000 33.70000)  \n",
       "330  POINT (-117.40000 33.70000)  \n",
       "331  POINT (-117.00000 36.00000)  \n",
       "332  POINT (-117.10000 34.20000)  \n",
       "333  POINT (-117.10000 33.70000)  \n",
       "\n",
       "[334 rows x 7 columns]"
      ]
     },
     "execution_count": 8,
     "metadata": {},
     "output_type": "execute_result"
    }
   ],
   "source": [
    "gdf"
   ]
  },
  {
   "cell_type": "code",
   "execution_count": 9,
   "id": "74c34afb-b1ab-44c7-b949-ce20d24a4043",
   "metadata": {},
   "outputs": [
    {
     "name": "stdout",
     "output_type": "stream",
     "text": [
      "<class 'geopandas.geodataframe.GeoDataFrame'>\n",
      "RangeIndex: 334 entries, 0 to 333\n",
      "Data columns (total 7 columns):\n",
      " #   Column    Non-Null Count  Dtype   \n",
      "---  ------    --------------  -----   \n",
      " 0   time      334 non-null    object  \n",
      " 1   depth     334 non-null    object  \n",
      " 2   mag       334 non-null    object  \n",
      " 3   id        334 non-null    object  \n",
      " 4   place     334 non-null    object  \n",
      " 5   geohash   334 non-null    object  \n",
      " 6   geometry  334 non-null    geometry\n",
      "dtypes: geometry(1), object(6)\n",
      "memory usage: 18.4+ KB\n"
     ]
    }
   ],
   "source": [
    "gdf.info()"
   ]
  },
  {
   "cell_type": "markdown",
   "id": "6060e45b-4e23-458e-9da0-da79c0cd39e1",
   "metadata": {},
   "source": [
    "## Check for numeric None, NaN, or NaT values"
   ]
  },
  {
   "cell_type": "code",
   "execution_count": 10,
   "id": "85d8fa64-8474-4e25-80f4-27d1b78843b1",
   "metadata": {},
   "outputs": [
    {
     "data": {
      "text/plain": [
       "time        0\n",
       "depth       0\n",
       "mag         0\n",
       "id          0\n",
       "place       0\n",
       "geohash     0\n",
       "geometry    0\n",
       "dtype: int64"
      ]
     },
     "execution_count": 10,
     "metadata": {},
     "output_type": "execute_result"
    }
   ],
   "source": [
    "def check_numeric_nulls():\n",
    "    numeric_null_mask = gdf.applymap(lambda x: pd.isna(x))\n",
    "\n",
    "    # Count the number of numeric null values in each column\n",
    "    return numeric_null_mask.sum()\n",
    "\n",
    "check_numeric_nulls()"
   ]
  },
  {
   "cell_type": "code",
   "execution_count": 11,
   "id": "f57801c6-76f2-4c59-bccf-cc16211dcc8d",
   "metadata": {},
   "outputs": [
    {
     "data": {
      "text/plain": [
       "time        0\n",
       "depth       0\n",
       "mag         0\n",
       "id          0\n",
       "place       0\n",
       "geohash     0\n",
       "geometry    0\n",
       "dtype: int64"
      ]
     },
     "execution_count": 11,
     "metadata": {},
     "output_type": "execute_result"
    }
   ],
   "source": [
    "# Check for 'None' string cells in the DataFrame\n",
    "def check_none_string():\n",
    "    none_string_mask = gdf.applymap(lambda x: x == 'None')\n",
    "\n",
    "    # Count the number of 'None' string cells in each column\n",
    "    return none_string_mask.sum()\n",
    "\n",
    "check_none_string()"
   ]
  },
  {
   "cell_type": "code",
   "execution_count": 12,
   "id": "b912399f-d8f5-4ef1-a801-bcb5c0bf8015",
   "metadata": {},
   "outputs": [
    {
     "data": {
      "text/plain": [
       "time         0\n",
       "depth       21\n",
       "mag          0\n",
       "id           0\n",
       "place        0\n",
       "geohash      0\n",
       "geometry     0\n",
       "dtype: int64"
      ]
     },
     "execution_count": 12,
     "metadata": {},
     "output_type": "execute_result"
    }
   ],
   "source": [
    "# Check for empty cells in the DataFrame\n",
    "def check_empty_cells():\n",
    "    empty_cells_mask = gdf.applymap(lambda x: x == '')\n",
    "\n",
    "    # Count the number of empty cells in each column\n",
    "    return empty_cells_mask.sum()\n",
    "\n",
    "check_empty_cells()"
   ]
  },
  {
   "cell_type": "markdown",
   "id": "dd999b66-2113-4283-907b-a37782f3713d",
   "metadata": {},
   "source": [
    "## Convert required columns to numeric and replace NaN values with the median"
   ]
  },
  {
   "cell_type": "code",
   "execution_count": 13,
   "id": "55965e20-6463-423c-93ed-702e97a9faa9",
   "metadata": {},
   "outputs": [],
   "source": [
    "# Convert these columns to numeric, coercing errors to NaN\n",
    "gdf['depth'] = pd.to_numeric(gdf['depth'], errors='coerce')\n",
    "gdf['mag'] = pd.to_numeric(gdf['mag'], errors='coerce')\n",
    "# Convert datetime strings to timestamps\n",
    "# gdf['time'] = pd.to_datetime(gdf['time']).astype(int) / 10**9\n",
    "\n",
    "# Calculate the median of the 'depth' column\n",
    "depth_median = gdf['depth'].median()\n",
    "\n",
    "# Calculate the median of the 'mag' column\n",
    "depth_median = gdf['mag'].median()\n",
    "\n",
    "# Fill NaN values with the median\n",
    "gdf['depth'] = gdf['depth'].fillna(depth_median)\n",
    "gdf['mag'] = gdf['mag'].fillna(depth_median)"
   ]
  },
  {
   "cell_type": "code",
   "execution_count": 14,
   "id": "40308e04-2091-490a-aed2-2743bb7538f9",
   "metadata": {},
   "outputs": [
    {
     "name": "stdout",
     "output_type": "stream",
     "text": [
      "<class 'geopandas.geodataframe.GeoDataFrame'>\n",
      "RangeIndex: 334 entries, 0 to 333\n",
      "Data columns (total 7 columns):\n",
      " #   Column    Non-Null Count  Dtype   \n",
      "---  ------    --------------  -----   \n",
      " 0   time      334 non-null    object  \n",
      " 1   depth     334 non-null    float64 \n",
      " 2   mag       334 non-null    float64 \n",
      " 3   id        334 non-null    object  \n",
      " 4   place     334 non-null    object  \n",
      " 5   geohash   334 non-null    object  \n",
      " 6   geometry  334 non-null    geometry\n",
      "dtypes: float64(2), geometry(1), object(4)\n",
      "memory usage: 18.4+ KB\n"
     ]
    }
   ],
   "source": [
    "gdf.info()"
   ]
  },
  {
   "cell_type": "code",
   "execution_count": 15,
   "id": "a3bf02f4-b0ef-4261-b6c0-b602d9fc0b8f",
   "metadata": {},
   "outputs": [
    {
     "data": {
      "text/plain": [
       "time        0\n",
       "depth       0\n",
       "mag         0\n",
       "id          0\n",
       "place       0\n",
       "geohash     0\n",
       "geometry    0\n",
       "dtype: int64"
      ]
     },
     "execution_count": 15,
     "metadata": {},
     "output_type": "execute_result"
    }
   ],
   "source": [
    "check_empty_cells()"
   ]
  },
  {
   "cell_type": "code",
   "execution_count": 16,
   "id": "6542979d-d007-4870-b1b4-f10d697fc926",
   "metadata": {},
   "outputs": [
    {
     "data": {
      "text/html": [
       "<div>\n",
       "<style scoped>\n",
       "    .dataframe tbody tr th:only-of-type {\n",
       "        vertical-align: middle;\n",
       "    }\n",
       "\n",
       "    .dataframe tbody tr th {\n",
       "        vertical-align: top;\n",
       "    }\n",
       "\n",
       "    .dataframe thead th {\n",
       "        text-align: right;\n",
       "    }\n",
       "</style>\n",
       "<table border=\"1\" class=\"dataframe\">\n",
       "  <thead>\n",
       "    <tr style=\"text-align: right;\">\n",
       "      <th></th>\n",
       "      <th>time</th>\n",
       "      <th>depth</th>\n",
       "      <th>mag</th>\n",
       "      <th>id</th>\n",
       "      <th>place</th>\n",
       "      <th>geohash</th>\n",
       "      <th>geometry</th>\n",
       "    </tr>\n",
       "  </thead>\n",
       "  <tbody>\n",
       "    <tr>\n",
       "      <th>0</th>\n",
       "      <td>2018-07-05T15:17:36.947Z</td>\n",
       "      <td>8.600</td>\n",
       "      <td>4.50</td>\n",
       "      <td>nn00642964</td>\n",
       "      <td>15 km WNW of Sandy Valley, Nevada</td>\n",
       "      <td>9qmsj</td>\n",
       "      <td>POINT (-115.77580 35.89450)</td>\n",
       "    </tr>\n",
       "    <tr>\n",
       "      <th>1</th>\n",
       "      <td>2016-06-10T08:04:38.700Z</td>\n",
       "      <td>12.310</td>\n",
       "      <td>5.19</td>\n",
       "      <td>ci37374687</td>\n",
       "      <td>20km NNW of Borrego Springs, CA</td>\n",
       "      <td>9mvnn</td>\n",
       "      <td>POINT (-116.44267 33.43150)</td>\n",
       "    </tr>\n",
       "    <tr>\n",
       "      <th>2</th>\n",
       "      <td>2014-07-05T16:59:34.090Z</td>\n",
       "      <td>7.250</td>\n",
       "      <td>4.58</td>\n",
       "      <td>ci15520985</td>\n",
       "      <td>11km NE of Running Springs, CA</td>\n",
       "      <td>9qhg0</td>\n",
       "      <td>POINT (-117.02667 34.28233)</td>\n",
       "    </tr>\n",
       "    <tr>\n",
       "      <th>3</th>\n",
       "      <td>2014-03-29T04:09:42.170Z</td>\n",
       "      <td>5.090</td>\n",
       "      <td>5.10</td>\n",
       "      <td>ci15481673</td>\n",
       "      <td>2km NW of Brea, CA</td>\n",
       "      <td>9qh1h</td>\n",
       "      <td>POINT (-117.91583 33.93250)</td>\n",
       "    </tr>\n",
       "    <tr>\n",
       "      <th>4</th>\n",
       "      <td>2013-03-11T16:56:06.060Z</td>\n",
       "      <td>10.943</td>\n",
       "      <td>4.70</td>\n",
       "      <td>ci15296281</td>\n",
       "      <td>21km ESE of Anza, CA</td>\n",
       "      <td>9mvnt</td>\n",
       "      <td>POINT (-116.45817 33.50083)</td>\n",
       "    </tr>\n",
       "    <tr>\n",
       "      <th>...</th>\n",
       "      <td>...</td>\n",
       "      <td>...</td>\n",
       "      <td>...</td>\n",
       "      <td>...</td>\n",
       "      <td>...</td>\n",
       "      <td>...</td>\n",
       "      <td>...</td>\n",
       "    </tr>\n",
       "    <tr>\n",
       "      <th>329</th>\n",
       "      <td>1910-05-13T06:20:00.000Z</td>\n",
       "      <td>4.800</td>\n",
       "      <td>5.00</td>\n",
       "      <td>ushis504</td>\n",
       "      <td>7 km WNW of Lake Elsinore, California</td>\n",
       "      <td>9mux8</td>\n",
       "      <td>POINT (-117.40000 33.70000)</td>\n",
       "    </tr>\n",
       "    <tr>\n",
       "      <th>330</th>\n",
       "      <td>1910-04-11T07:57:00.000Z</td>\n",
       "      <td>4.800</td>\n",
       "      <td>5.00</td>\n",
       "      <td>ushis501</td>\n",
       "      <td>7 km WNW of Lake Elsinore, California</td>\n",
       "      <td>9mux8</td>\n",
       "      <td>POINT (-117.40000 33.70000)</td>\n",
       "    </tr>\n",
       "    <tr>\n",
       "      <th>331</th>\n",
       "      <td>1908-11-04T08:37:00.000Z</td>\n",
       "      <td>4.800</td>\n",
       "      <td>6.50</td>\n",
       "      <td>ushis478</td>\n",
       "      <td>44 km NE of Searles Valley, California</td>\n",
       "      <td>9qkuc</td>\n",
       "      <td>POINT (-117.00000 36.00000)</td>\n",
       "    </tr>\n",
       "    <tr>\n",
       "      <th>332</th>\n",
       "      <td>1907-09-20T01:54:00.000Z</td>\n",
       "      <td>4.800</td>\n",
       "      <td>5.30</td>\n",
       "      <td>ushis468</td>\n",
       "      <td>1 km SE of Running Springs, California</td>\n",
       "      <td>9qhdx</td>\n",
       "      <td>POINT (-117.10000 34.20000)</td>\n",
       "    </tr>\n",
       "    <tr>\n",
       "      <th>333</th>\n",
       "      <td>1902-06-11T02:45:00.000Z</td>\n",
       "      <td>4.800</td>\n",
       "      <td>4.50</td>\n",
       "      <td>ushis403</td>\n",
       "      <td>1 km WSW of Winchester, California</td>\n",
       "      <td>9muxx</td>\n",
       "      <td>POINT (-117.10000 33.70000)</td>\n",
       "    </tr>\n",
       "  </tbody>\n",
       "</table>\n",
       "<p>334 rows × 7 columns</p>\n",
       "</div>"
      ],
      "text/plain": [
       "                         time   depth   mag          id  \\\n",
       "0    2018-07-05T15:17:36.947Z   8.600  4.50  nn00642964   \n",
       "1    2016-06-10T08:04:38.700Z  12.310  5.19  ci37374687   \n",
       "2    2014-07-05T16:59:34.090Z   7.250  4.58  ci15520985   \n",
       "3    2014-03-29T04:09:42.170Z   5.090  5.10  ci15481673   \n",
       "4    2013-03-11T16:56:06.060Z  10.943  4.70  ci15296281   \n",
       "..                        ...     ...   ...         ...   \n",
       "329  1910-05-13T06:20:00.000Z   4.800  5.00    ushis504   \n",
       "330  1910-04-11T07:57:00.000Z   4.800  5.00    ushis501   \n",
       "331  1908-11-04T08:37:00.000Z   4.800  6.50    ushis478   \n",
       "332  1907-09-20T01:54:00.000Z   4.800  5.30    ushis468   \n",
       "333  1902-06-11T02:45:00.000Z   4.800  4.50    ushis403   \n",
       "\n",
       "                                      place geohash  \\\n",
       "0         15 km WNW of Sandy Valley, Nevada   9qmsj   \n",
       "1           20km NNW of Borrego Springs, CA   9mvnn   \n",
       "2            11km NE of Running Springs, CA   9qhg0   \n",
       "3                        2km NW of Brea, CA   9qh1h   \n",
       "4                      21km ESE of Anza, CA   9mvnt   \n",
       "..                                      ...     ...   \n",
       "329   7 km WNW of Lake Elsinore, California   9mux8   \n",
       "330   7 km WNW of Lake Elsinore, California   9mux8   \n",
       "331  44 km NE of Searles Valley, California   9qkuc   \n",
       "332  1 km SE of Running Springs, California   9qhdx   \n",
       "333      1 km WSW of Winchester, California   9muxx   \n",
       "\n",
       "                        geometry  \n",
       "0    POINT (-115.77580 35.89450)  \n",
       "1    POINT (-116.44267 33.43150)  \n",
       "2    POINT (-117.02667 34.28233)  \n",
       "3    POINT (-117.91583 33.93250)  \n",
       "4    POINT (-116.45817 33.50083)  \n",
       "..                           ...  \n",
       "329  POINT (-117.40000 33.70000)  \n",
       "330  POINT (-117.40000 33.70000)  \n",
       "331  POINT (-117.00000 36.00000)  \n",
       "332  POINT (-117.10000 34.20000)  \n",
       "333  POINT (-117.10000 33.70000)  \n",
       "\n",
       "[334 rows x 7 columns]"
      ]
     },
     "execution_count": 16,
     "metadata": {},
     "output_type": "execute_result"
    }
   ],
   "source": [
    "gdf"
   ]
  },
  {
   "cell_type": "code",
   "execution_count": 17,
   "id": "7ef92dc3-7be0-4f09-8118-e32bd7b47ea4",
   "metadata": {},
   "outputs": [
    {
     "data": {
      "text/html": [
       "<div>\n",
       "<style scoped>\n",
       "    .dataframe tbody tr th:only-of-type {\n",
       "        vertical-align: middle;\n",
       "    }\n",
       "\n",
       "    .dataframe tbody tr th {\n",
       "        vertical-align: top;\n",
       "    }\n",
       "\n",
       "    .dataframe thead th {\n",
       "        text-align: right;\n",
       "    }\n",
       "</style>\n",
       "<table border=\"1\" class=\"dataframe\">\n",
       "  <thead>\n",
       "    <tr style=\"text-align: right;\">\n",
       "      <th></th>\n",
       "      <th>depth</th>\n",
       "      <th>mag</th>\n",
       "    </tr>\n",
       "  </thead>\n",
       "  <tbody>\n",
       "    <tr>\n",
       "      <th>count</th>\n",
       "      <td>334.000000</td>\n",
       "      <td>334.000000</td>\n",
       "    </tr>\n",
       "    <tr>\n",
       "      <th>mean</th>\n",
       "      <td>6.151335</td>\n",
       "      <td>4.938862</td>\n",
       "    </tr>\n",
       "    <tr>\n",
       "      <th>std</th>\n",
       "      <td>4.344186</td>\n",
       "      <td>0.459936</td>\n",
       "    </tr>\n",
       "    <tr>\n",
       "      <th>min</th>\n",
       "      <td>-1.934000</td>\n",
       "      <td>4.500000</td>\n",
       "    </tr>\n",
       "    <tr>\n",
       "      <th>25%</th>\n",
       "      <td>4.021750</td>\n",
       "      <td>4.612500</td>\n",
       "    </tr>\n",
       "    <tr>\n",
       "      <th>50%</th>\n",
       "      <td>6.000000</td>\n",
       "      <td>4.800000</td>\n",
       "    </tr>\n",
       "    <tr>\n",
       "      <th>75%</th>\n",
       "      <td>7.241000</td>\n",
       "      <td>5.100000</td>\n",
       "    </tr>\n",
       "    <tr>\n",
       "      <th>max</th>\n",
       "      <td>19.720000</td>\n",
       "      <td>7.300000</td>\n",
       "    </tr>\n",
       "  </tbody>\n",
       "</table>\n",
       "</div>"
      ],
      "text/plain": [
       "            depth         mag\n",
       "count  334.000000  334.000000\n",
       "mean     6.151335    4.938862\n",
       "std      4.344186    0.459936\n",
       "min     -1.934000    4.500000\n",
       "25%      4.021750    4.612500\n",
       "50%      6.000000    4.800000\n",
       "75%      7.241000    5.100000\n",
       "max     19.720000    7.300000"
      ]
     },
     "execution_count": 17,
     "metadata": {},
     "output_type": "execute_result"
    }
   ],
   "source": [
    "gdf.describe()"
   ]
  },
  {
   "cell_type": "code",
   "execution_count": 18,
   "id": "dba4b261-a10d-45a4-8569-c1164c1cd2bf",
   "metadata": {},
   "outputs": [
    {
     "data": {
      "text/plain": [
       "<Axes: >"
      ]
     },
     "execution_count": 18,
     "metadata": {},
     "output_type": "execute_result"
    },
    {
     "data": {
      "image/png": "[encoded data removed]",
      "text/plain": [
       "<Figure size 640x480 with 1 Axes>"
      ]
     },
     "metadata": {},
     "output_type": "display_data"
    }
   ],
   "source": [
    "gdf['mag'].hist()"
   ]
  },
  {
   "cell_type": "code",
   "execution_count": 19,
   "id": "2054015a-d859-493c-b2e0-ee034806fb34",
   "metadata": {},
   "outputs": [],
   "source": [
    "layer = ScatterplotLayer.from_geopandas(gdf)\n",
    "map_ = Map(layers=[layer], _height=1800)\n",
    "\n",
    "# from shapely.geometry import MultiPoint\n",
    "\n",
    "# #Calculate centroids\n",
    "# centroids = gdf.centroid\n",
    "\n",
    "# #Extract centroid coordinates into a MultiPoint object\n",
    "# multi_point = MultiPoint([geom.xy for geom in centroids])\n",
    "\n",
    "# # Calculate the median centroid\n",
    "# median_centroid = multi_point.centroid\n",
    "\n",
    "# print(f\"{median_centroid.coords.xy[0][0]}, {median_centroid.coords.xy[1][0]}\")\n",
    "\n",
    "# map_._initial_view_state={\n",
    "#     \"longitude\": median_centroid.coords.xy[0][0], \n",
    "#     \"latitude\": median_centroid.coords.xy[1][0], \n",
    "#     \"zoom\": 7}\n",
    "\n",
    "# ---------------------------------------------------------------------\n",
    "# Calculate the centroid for each geometry and collect them\n",
    "centroids = gdf.geometry.apply(lambda geom: (geom.centroid.x, geom.centroid.y)).tolist()\n",
    "\n",
    "# Calculate the median centroid\n",
    "median_centroid = (\n",
    "    sorted(centroids, key=lambda x: x[0])[len(centroids) // 2][0],  # Median x-coordinate\n",
    "    sorted(centroids, key=lambda x: x[1])[len(centroids) // 2][1]   # Median y-coordinate\n",
    ")\n",
    "\n",
    "# Reverse the order of coordinates to match (latitude, longitude)\n",
    "# median_centroid = median_centroid[::-1]\n",
    "# median_centroid\n",
    "\n",
    "map_._initial_view_state={\"longitude\": median_centroid[0], \"latitude\": median_centroid[1], \"zoom\": 7.5}"
   ]
  },
  {
   "cell_type": "code",
   "execution_count": 20,
   "id": "cd89e743-134c-425d-bd59-0aef318e0c1b",
   "metadata": {},
   "outputs": [],
   "source": [
    "# Function to create and display a Sidecar widget\n",
    "def display_sidecar():\n",
    "    global current_sidecar\n",
    "    if current_sidecar is not None:\n",
    "        current_sidecar.close()  # Close the currently displayed Sidecar widget\n",
    "    current_sidecar = Sidecar(title='CA Map')\n",
    "    with current_sidecar:\n",
    "        display(map_)  # Replace this with your desired content\n",
    "\n",
    "# Test the function\n",
    "display_sidecar()\n",
    "\n",
    "# with Sidecar(title=\"CA Map\") as sc:\n",
    "#     display(map_)"
   ]
  },
  {
   "cell_type": "code",
   "execution_count": 21,
   "id": "e070b359-98f2-4481-95f0-1ee64d91e7a9",
   "metadata": {
    "editable": true,
    "slideshow": {
     "slide_type": ""
    },
    "tags": []
   },
   "outputs": [],
   "source": [
    "colname = \"mag\"\n",
    "gdf[colname] = pd.to_numeric(gdf[colname])"
   ]
  },
  {
   "cell_type": "markdown",
   "id": "ae715b7d-dcd4-4e6c-b0c8-88ebfd201faf",
   "metadata": {},
   "source": [
    "### Linear normalization process to convert magnitude values ranging from 0 to 9 to a range of 0 to 1 to colormap the data"
   ]
  },
  {
   "cell_type": "code",
   "execution_count": 22,
   "id": "563e6a36-e374-4285-be48-b36f51319ae4",
   "metadata": {},
   "outputs": [],
   "source": [
    "normalizer = mpl.colors.Normalize(0, 9)\n",
    "normalized_values = normalizer(gdf[colname])"
   ]
  },
  {
   "cell_type": "code",
   "execution_count": 23,
   "id": "817e0297-7cca-43c5-866f-797268ef4e43",
   "metadata": {},
   "outputs": [
    {
     "data": {
      "text/plain": [
       "masked_array(data=[0.5       , 0.57666667, 0.50888889, 0.56666667,\n",
       "                   0.52222222, 0.60222222, 0.51111111, 0.51777778,\n",
       "                   0.57666667, 0.53888889, 0.52666667, 0.55555556,\n",
       "                   0.52555556, 0.53      , 0.56222222, 0.60444444,\n",
       "                   0.52555556, 0.56444444, 0.5       , 0.50777778,\n",
       "                   0.51444444, 0.54222222, 0.57777778, 0.51555556,\n",
       "                   0.51222222, 0.5       , 0.55444444, 0.53      ,\n",
       "                   0.53111111, 0.55777778, 0.54777778, 0.57444444,\n",
       "                   0.51777778, 0.50111111, 0.51444444, 0.55444444,\n",
       "                   0.50111111, 0.55333333, 0.51      , 0.50333333,\n",
       "                   0.50333333, 0.51555556, 0.50888889, 0.59666667,\n",
       "                   0.51444444, 0.5       , 0.52888889, 0.52666667,\n",
       "                   0.62222222, 0.64111111, 0.55333333, 0.53      ,\n",
       "                   0.52222222, 0.78888889, 0.54777778, 0.53333333,\n",
       "                   0.53555556, 0.51444444, 0.53111111, 0.53333333,\n",
       "                   0.56      , 0.53888889, 0.58111111, 0.54333333,\n",
       "                   0.58444444, 0.58888889, 0.57444444, 0.54444444,\n",
       "                   0.63888889, 0.59555556, 0.53      , 0.53888889,\n",
       "                   0.55222222, 0.53111111, 0.55555556, 0.50222222,\n",
       "                   0.5       , 0.51777778, 0.51222222, 0.58444444,\n",
       "                   0.58777778, 0.50222222, 0.51      , 0.58444444,\n",
       "                   0.58111111, 0.52555556, 0.50777778, 0.53222222,\n",
       "                   0.51111111, 0.53666667, 0.55111111, 0.52      ,\n",
       "                   0.50555556, 0.63      , 0.54111111, 0.54555556,\n",
       "                   0.60222222, 0.50666667, 0.59333333, 0.50111111,\n",
       "                   0.53888889, 0.55444444, 0.51      , 0.51555556,\n",
       "                   0.53666667, 0.51      , 0.51555556, 0.56444444,\n",
       "                   0.63222222, 0.64444444, 0.51888889, 0.51888889,\n",
       "                   0.58444444, 0.55333333, 0.52888889, 0.50888889,\n",
       "                   0.51777778, 0.7       , 0.50444444, 0.61444444,\n",
       "                   0.55      , 0.51666667, 0.54222222, 0.5       ,\n",
       "                   0.54111111, 0.60111111, 0.61      , 0.5       ,\n",
       "                   0.55555556, 0.55555556, 0.63333333, 0.64111111,\n",
       "                   0.81111111, 0.55111111, 0.53666667, 0.55333333,\n",
       "                   0.67777778, 0.50444444, 0.64444444, 0.5       ,\n",
       "                   0.52444444, 0.61222222, 0.53333333, 0.50888889,\n",
       "                   0.55888889, 0.55777778, 0.53666667, 0.51777778,\n",
       "                   0.52111111, 0.58333333, 0.51333333, 0.52777778,\n",
       "                   0.52222222, 0.65555556, 0.66666667, 0.50888889,\n",
       "                   0.5       , 0.56888889, 0.53444444, 0.51333333,\n",
       "                   0.52222222, 0.59333333, 0.53666667, 0.50444444,\n",
       "                   0.53      , 0.58111111, 0.53666667, 0.56222222,\n",
       "                   0.54444444, 0.58666667, 0.58      , 0.60666667,\n",
       "                   0.52777778, 0.73333333, 0.52333333, 0.55      ,\n",
       "                   0.52111111, 0.53888889, 0.57111111, 0.51222222,\n",
       "                   0.50555556, 0.50777778, 0.58777778, 0.54444444,\n",
       "                   0.51555556, 0.53555556, 0.55222222, 0.55      ,\n",
       "                   0.50888889, 0.57      , 0.56111111, 0.52444444,\n",
       "                   0.55222222, 0.56111111, 0.57666667, 0.50111111,\n",
       "                   0.52      , 0.52222222, 0.52333333, 0.54777778,\n",
       "                   0.52666667, 0.60888889, 0.50333333, 0.53222222,\n",
       "                   0.71111111, 0.5       , 0.53222222, 0.53333333,\n",
       "                   0.50888889, 0.52333333, 0.52888889, 0.52222222,\n",
       "                   0.52222222, 0.50666667, 0.63222222, 0.5       ,\n",
       "                   0.52555556, 0.66666667, 0.51111111, 0.55      ,\n",
       "                   0.58222222, 0.53555556, 0.52111111, 0.58888889,\n",
       "                   0.51777778, 0.50111111, 0.55444444, 0.53333333,\n",
       "                   0.55555556, 0.72222222, 0.50555556, 0.54111111,\n",
       "                   0.61222222, 0.52222222, 0.58222222, 0.51111111,\n",
       "                   0.50888889, 0.53666667, 0.56      , 0.60333333,\n",
       "                   0.57666667, 0.7       , 0.60333333, 0.59222222,\n",
       "                   0.54111111, 0.50555556, 0.50777778, 0.58222222,\n",
       "                   0.56222222, 0.56777778, 0.58666667, 0.62555556,\n",
       "                   0.51333333, 0.53555556, 0.51111111, 0.50666667,\n",
       "                   0.55111111, 0.50222222, 0.57777778, 0.59      ,\n",
       "                   0.50555556, 0.55555556, 0.52777778, 0.52777778,\n",
       "                   0.50444444, 0.58111111, 0.5       , 0.5       ,\n",
       "                   0.66666667, 0.5       , 0.5       , 0.52111111,\n",
       "                   0.5       , 0.53666667, 0.51222222, 0.50111111,\n",
       "                   0.54222222, 0.50777778, 0.51333333, 0.5       ,\n",
       "                   0.5       , 0.52777778, 0.51555556, 0.51777778,\n",
       "                   0.52888889, 0.5       , 0.53111111, 0.52222222,\n",
       "                   0.5       , 0.5       , 0.51111111, 0.50444444,\n",
       "                   0.51111111, 0.53666667, 0.54      , 0.5       ,\n",
       "                   0.58777778, 0.55777778, 0.52222222, 0.54444444,\n",
       "                   0.52222222, 0.54444444, 0.51111111, 0.52777778,\n",
       "                   0.51111111, 0.52222222, 0.51111111, 0.51333333,\n",
       "                   0.5       , 0.50444444, 0.52      , 0.71111111,\n",
       "                   0.52222222, 0.56666667, 0.58333333, 0.56666667,\n",
       "                   0.52222222, 0.55555556, 0.61111111, 0.5       ,\n",
       "                   0.69      , 0.55555556, 0.55555556, 0.74444444,\n",
       "                   0.67777778, 0.55555556, 0.5       , 0.5       ,\n",
       "                   0.58888889, 0.55555556, 0.55555556, 0.72222222,\n",
       "                   0.58888889, 0.5       ],\n",
       "             mask=False,\n",
       "       fill_value=1e+20)"
      ]
     },
     "execution_count": 23,
     "metadata": {},
     "output_type": "execute_result"
    }
   ],
   "source": [
    "normalized_values"
   ]
  },
  {
   "cell_type": "code",
   "execution_count": 24,
   "id": "abecd817-7133-4ff2-bd71-712e25324789",
   "metadata": {},
   "outputs": [
    {
     "data": {
      "image/png": "[encoded data removed]",
      "text/html": [
       "<div style=\"vertical-align: middle;\"><strong>BrBG</strong> </div><div class=\"cmap\"><img alt=\"BrBG colormap\" title=\"BrBG\" style=\"border: 1px solid #555;\" src=\"data:image/png;base64,iVBORw0KGgoAAAANSUhEUgAAAgAAAABACAYAAABsv8+/AAAAE3RFWHRUaXRsZQBCckJHIGNvbG9ybWFwMTXIUAAAABl0RVh0RGVzY3JpcHRpb24AQnJCRyBjb2xvcm1hcLqHWMgAAAAwdEVYdEF1dGhvcgBNYXRwbG90bGliIHYzLjguMywgaHR0cHM6Ly9tYXRwbG90bGliLm9yZ6qeThwAAAAydEVYdFNvZnR3YXJlAE1hdHBsb3RsaWIgdjMuOC4zLCBodHRwczovL21hdHBsb3RsaWIub3JnhDjROwAAAilJREFUeJzt1k1u2zAURlGSQffTxXT/O7GYgSUHejahBPGgwHfOROWPKCYBitv//f0zW2ut99Zaa21cPu//GOPd+/t5/O7949h/39iP8WP+GI/TfO9l3yj79vXn88bL9/riO/Ueva4v7tHLd/rHx/7+6+d4rI/z+uq9sn8s18u5i/PG4tyrexz3bsffr5f3HvP7vnEer/a3Xu6x2N/K+V/7X8+3i++u7jn3v/Ns9+fWxv6s8+f15/lvnvPj7/32fne3Oe/j/XmbWxkf69ti/2/XV9970/q2nZ5bGd+2uZg/9pdzZj1nlv3fO/9p3/zhPco5x88763xZr/NzMb967+n8i/eX56/us1hv+++97b+Hr/GxPi/G/+n7+779fysAIIkAAIBAAgAAAgkAAAgkAAAgkAAAgEACAAACCQAACCQAACCQAACAQAIAAAIJAAAIJAAAIJAAAIBAAgAAAgkAAAgkAAAgkAAAgEACAAACCQAACCQAACCQAACAQAIAAAIJAAAIJAAAIJAAAIBAAgAAAgkAAAgkAAAgkAAAgEACAAACCQAACCQAACCQAACAQAIAAAIJAAAIJAAAIJAAAIBAAgAAAgkAAAgkAAAgkAAAgEACAAACCQAACCQAACCQAACAQAIAAAIJAAAIJAAAIJAAAIBAAgAAAgkAAAgkAAAgkAAAgEACAAACCQAACCQAACCQAACAQAIAAAIJAAAIJAAAIJAAAIBAAgAAAn0CyK5V+uT9Ti4AAAAASUVORK5CYII=\"></div><div style=\"vertical-align: middle; max-width: 514px; display: flex; justify-content: space-between;\"><div style=\"float: left;\"><div title=\"#543005ff\" style=\"display: inline-block; width: 1em; height: 1em; margin: 0; vertical-align: middle; border: 1px solid #555; background-color: #543005ff;\"></div> under</div><div style=\"margin: 0 auto; display: inline-block;\">bad <div title=\"#00000000\" style=\"display: inline-block; width: 1em; height: 1em; margin: 0; vertical-align: middle; border: 1px solid #555; background-color: #00000000;\"></div></div><div style=\"float: right;\">over <div title=\"#003c30ff\" style=\"display: inline-block; width: 1em; height: 1em; margin: 0; vertical-align: middle; border: 1px solid #555; background-color: #003c30ff;\"></div></div>"
      ],
      "text/plain": [
       "<matplotlib.colors.LinearSegmentedColormap at 0x1293ae8d0>"
      ]
     },
     "execution_count": 24,
     "metadata": {},
     "output_type": "execute_result"
    }
   ],
   "source": [
    "BrBG_10.mpl_colormap"
   ]
  },
  {
   "cell_type": "code",
   "execution_count": 25,
   "id": "5d57296f-3aba-4a9c-b81f-7c1b5f903927",
   "metadata": {},
   "outputs": [],
   "source": [
    "layer.radius_min_pixels = 0.5\n",
    "layer.get_fill_color = apply_continuous_cmap(normalized_values, BrBG_10)"
   ]
  },
  {
   "cell_type": "code",
   "execution_count": 26,
   "id": "bf16a812-81b7-4810-b4c7-4cef77e8ace7",
   "metadata": {},
   "outputs": [],
   "source": [
    "log_normalizer = mpl.colors.LogNorm(3, 9, clip=True)\n",
    "log_values = log_normalizer(gdf[colname])"
   ]
  },
  {
   "cell_type": "code",
   "execution_count": 27,
   "id": "15e3ff90-8299-4c74-b73b-4d87f19aceef",
   "metadata": {},
   "outputs": [],
   "source": [
    "layer.get_fill_color = apply_continuous_cmap(log_values, BrBG_10)\n",
    "layer.get_radius = log_values * 2500\n",
    "layer.radius_units = \"meters\""
   ]
  },
  {
   "cell_type": "code",
   "execution_count": 34,
   "id": "262942cf-77fd-432f-bfee-011e1a693f4c",
   "metadata": {},
   "outputs": [],
   "source": [
    "# Extract x and y coordinates from the geometry column\n",
    "gdf['longitude'] = gdf.geometry.x\n",
    "gdf['latitude'] = gdf.geometry.y\n",
    "# gdf"
   ]
  },
  {
   "cell_type": "code",
   "execution_count": 29,
   "id": "9d1dedb0-e5ef-4d3f-a776-1b3c035c5ab4",
   "metadata": {},
   "outputs": [
    {
     "data": {
      "text/plain": [
       "<Axes: xlabel='longitude', ylabel='latitude'>"
      ]
     },
     "execution_count": 29,
     "metadata": {},
     "output_type": "execute_result"
    },
    {
     "data": {
      "image/png": "[encoded data removed]",
      "text/plain": [
       "<Figure size 1000x700 with 2 Axes>"
      ]
     },
     "metadata": {},
     "output_type": "display_data"
    }
   ],
   "source": [
    "gdf.plot(kind=\"scatter\", x=\"longitude\", y=\"latitude\", alpha=0.4, s=gdf[\"mag\"], label=\"magnitude\", figsize=(10,7), c=\"mag\", cmap=plt.get_cmap(\"seismic\"), colorbar=True,\n",
    "    sharex=False)"
   ]
  },
  {
   "cell_type": "code",
   "execution_count": 30,
   "id": "10bb583c-94c0-408b-8ede-2c4f8def44ba",
   "metadata": {},
   "outputs": [],
   "source": [
    "from sklearn.model_selection import train_test_split\n",
    "\n",
    "columns_to_drop = ['time', 'mag', 'id', 'place', 'geohash', 'geometry']\n",
    "X = gdf.drop(columns_to_drop, axis=1)\n",
    "y = gdf['mag']\n",
    "\n",
    "X_train, X_test, y_train, y_test = train_test_split(X, y, test_size=0.2, random_state=42)"
   ]
  },
  {
   "cell_type": "code",
   "execution_count": 31,
   "id": "3d6bfad8-ab2f-4c79-b214-7a83ae7d95c1",
   "metadata": {},
   "outputs": [
    {
     "data": {
      "text/plain": [
       "array([4.8839147 , 4.802337  , 4.89927885, 4.94453629, 4.88283883,\n",
       "       4.79967337, 4.80041747, 4.95800088, 4.93961024, 4.90034947,\n",
       "       4.9188429 , 4.94450374, 4.87393239, 4.95984415, 4.87966986,\n",
       "       4.89286654, 4.9205961 , 4.78517154, 4.92797043, 4.91903419,\n",
       "       5.14658846, 4.98904667, 4.88101561, 4.91993067, 4.9573141 ,\n",
       "       4.91848596, 5.16949987, 5.05357535, 4.93384346, 4.92115816,\n",
       "       4.97863743, 4.74517266, 4.95388661, 4.9513752 , 4.92658841,\n",
       "       4.89597185, 4.92613158, 4.98069   , 4.91564076, 4.97003118,\n",
       "       4.97151255, 4.91094674, 4.95894295, 4.95695323, 4.94383601,\n",
       "       4.92440495, 4.92334574, 4.92303194, 4.89636247, 4.90782672,\n",
       "       4.84888745, 4.99324457, 4.94173928, 4.90311457, 4.98114038,\n",
       "       4.91545852, 4.92992425, 5.1399959 , 4.85900905, 4.87335213,\n",
       "       4.80993969, 4.95813358, 4.94739132, 4.81695646, 4.87951728,\n",
       "       4.80024022, 4.92928696])"
      ]
     },
     "execution_count": 31,
     "metadata": {},
     "output_type": "execute_result"
    }
   ],
   "source": [
    "from sklearn.linear_model import LinearRegression\n",
    "\n",
    "model = LinearRegression()\n",
    "\n",
    "# Train the model\n",
    "model.fit(X_train, y_train)\n",
    "# model.fit(gdf[[\"time\", \"depth\", \"longitude\", \"latitude\"]], gdf[\"mag\"])\n",
    "\n",
    "# Make predictions\n",
    "y_pred = model.predict(X_test)\n",
    "\n",
    "y_pred"
   ]
  },
  {
   "cell_type": "code",
   "execution_count": 32,
   "id": "63fbce67-6205-4100-a858-5884590df903",
   "metadata": {},
   "outputs": [
    {
     "data": {
      "text/plain": [
       "array([0.00942343, 0.07287432, 0.06362785])"
      ]
     },
     "execution_count": 32,
     "metadata": {},
     "output_type": "execute_result"
    }
   ],
   "source": [
    "coef = model.coef_\n",
    "coef"
   ]
  },
  {
   "cell_type": "code",
   "execution_count": 33,
   "id": "af9a2168-0894-4af0-aff4-b626e3c62cd0",
   "metadata": {},
   "outputs": [
    {
     "data": {
      "text/plain": [
       "11.202975059026272"
      ]
     },
     "execution_count": 33,
     "metadata": {},
     "output_type": "execute_result"
    }
   ],
   "source": [
    "intercept = model.intercept_\n",
    "intercept"
   ]
  },
  {
   "cell_type": "code",
   "execution_count": null,
   "id": "aca072f4-fa95-4007-b083-7317f84e79e7",
   "metadata": {},
   "outputs": [],
   "source": []
  }
 ],
 "metadata": {
  "kernelspec": {
   "display_name": "Python 3 (ipykernel)",
   "language": "python",
   "name": "python3"
  },
  "language_info": {
   "codemirror_mode": {
    "name": "ipython",
    "version": 3
   },
   "file_extension": ".py",
   "mimetype": "text/x-python",
   "name": "python",
   "nbconvert_exporter": "python",
   "pygments_lexer": "ipython3",
   "version": "3.11.1"
  }
 },
 "nbformat": 4,
 "nbformat_minor": 5
}
